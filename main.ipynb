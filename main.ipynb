{
 "cells": [
  {
   "cell_type": "markdown",
   "metadata": {},
   "source": [
    "#### Laboratorio 9\n",
    "Stefano Aragoni, Luis Diego Santos, Carol Arevalo"
   ]
  },
  {
   "cell_type": "markdown",
   "metadata": {},
   "source": [
    "1. Variables Crisp\n",
    "\n",
    "Distancia entre el robot y la pelota."
   ]
  },
  {
   "cell_type": "markdown",
   "metadata": {},
   "source": [
    "2. Variables Lingüísticas:\n",
    "Cerca, Medio, Lejos.\n"
   ]
  },
  {
   "cell_type": "markdown",
   "metadata": {},
   "source": [
    "3. Cláusulas de Horn para encontrar la pelota:\n",
    "\n",
    "IF distancia es CERCA THEN movimiento es LENTO\n",
    "IF distancia es MEDIO THEN movimiento es MODERADO\n",
    "IF distancia es LEJOS THEN movimiento es RÁPIDO\n"
   ]
  },
  {
   "cell_type": "markdown",
   "metadata": {},
   "source": [
    "4. Defuzzificación para encontrar la pelota:\n",
    "Vamos a usar el método del centroide.\n"
   ]
  },
  {
   "cell_type": "markdown",
   "metadata": {},
   "source": [
    "5. Variables Crisp para saber la fuerza con la que se debe patear la pelota:\n",
    "Distancia entre la pelota y la portería."
   ]
  },
  {
   "cell_type": "markdown",
   "metadata": {},
   "source": [
    "6. Variables Lingüísticas para saber la fuerza con la que se debe patear la pelota:\n",
    "Débil, Medio, Fuerte.\n"
   ]
  },
  {
   "cell_type": "markdown",
   "metadata": {},
   "source": [
    "7. Cláusulas de Horn para saber la fuerza con la que se debe patear la pelota:\n",
    "IF distancia a la portería es CERCA THEN fuerza es DÉBIL\n",
    "IF distancia a la portería es MEDIO THEN fuerza es MEDIO\n",
    "IF distancia a la portería es LEJOS THEN fuerza es FUERTE\n"
   ]
  },
  {
   "cell_type": "markdown",
   "metadata": {},
   "source": [
    "8. Defuzzificación para saber la fuerza con la que se debe patear la pelota:\n",
    "Nuevamente, usaremos el método del centroide.\n"
   ]
  },
  {
   "cell_type": "markdown",
   "metadata": {},
   "source": [
    "9. Grafique las funciones de pertenencia para encontrar la pelota"
   ]
  },
  {
   "cell_type": "markdown",
   "metadata": {},
   "source": [
    "10. Grafique las funciones de pertenencia para saber la fuerza con la que se debe patear la pelota"
   ]
  },
  {
   "cell_type": "markdown",
   "metadata": {},
   "source": [
    "11. Programe la interfaz gráfica donde se pueda seguir el movimiento del robot y la pelota"
   ]
  },
  {
   "cell_type": "code",
   "execution_count": 2,
   "metadata": {},
   "outputs": [],
   "source": [
    "import pygame\n",
    "import numpy as np\n",
    "\n",
    "# Inicialización de Pygame\n",
    "pygame.init()\n",
    "\n",
    "# Dimensiones de la ventana\n",
    "WIDTH, HEIGHT = 800, 600\n",
    "\n",
    "# Colores\n",
    "WHITE = (255, 255, 255)\n",
    "RED = (255, 0, 0)\n",
    "GREEN = (0, 128, 0)  # Modificado para representar el color del campo de juego\n",
    "BLACK = (0, 0, 0)\n",
    "BLUE = (0, 0, 255)\n",
    "\n",
    "# Ventana y reloj\n",
    "win = pygame.display.set_mode((WIDTH, HEIGHT))\n",
    "pygame.display.set_caption(\"Robot Soccer\")\n",
    "clock = pygame.time.Clock()\n",
    "\n",
    "class Robot:\n",
    "    def __init__(self, x, y):\n",
    "        self.x = x\n",
    "        self.y = y\n",
    "        self.speed = 1\n",
    "\n",
    "    def move_towards(self, target_x, target_y):\n",
    "        dist = np.sqrt((target_x - self.x)**2 + (target_y - self.y)**2)\n",
    "        \n",
    "        # Lógica difusa para la velocidad\n",
    "        if dist < 100:\n",
    "            self.speed = 1  # cerca\n",
    "        elif dist < 300:\n",
    "            self.speed = 3  # medio\n",
    "        else:\n",
    "            self.speed = 5  # lejos\n",
    "\n",
    "        direction = (target_x - self.x, target_y - self.y)\n",
    "        norm = np.sqrt(direction[0]**2 + direction[1]**2)\n",
    "        direction = (direction[0] / norm, direction[1] / norm)\n",
    "\n",
    "        self.x += direction[0] * self.speed\n",
    "        self.y += direction[1] * self.speed\n",
    "\n",
    "    def draw(self, win):\n",
    "        pygame.draw.rect(win, BLACK, (self.x-10, self.y-20, 20, 40))  # Robot representado como un rectángulo\n",
    "\n",
    "class Ball:\n",
    "    def __init__(self, x, y):\n",
    "        self.x = x\n",
    "        self.y = y\n",
    "\n",
    "    def move_towards(self, target_x, target_y, speed=4):\n",
    "        direction = (target_x - self.x, target_y - self.y)\n",
    "        norm = np.sqrt(direction[0]**2 + direction[1]**2)\n",
    "        \n",
    "        # Umbral de llegada\n",
    "        if norm < 10:\n",
    "            return\n",
    "\n",
    "        direction = (direction[0] / norm, direction[1] / norm)\n",
    "\n",
    "        self.x += direction[0] * speed\n",
    "        self.y += direction[1] * speed\n",
    "\n",
    "    def draw(self, win):\n",
    "        pygame.draw.circle(win, WHITE, (int(self.x), int(self.y)), 15)\n",
    "\n",
    "robot = Robot(200, HEIGHT // 2)\n",
    "ball = Ball(400, HEIGHT // 2)\n",
    "\n",
    "def redraw_window():\n",
    "    # Dibuja el campo de fútbol\n",
    "    win.fill(GREEN)\n",
    "    pygame.draw.rect(win, WHITE, (WIDTH-150, HEIGHT//4, 5, HEIGHT//2))\n",
    "    pygame.draw.circle(win, WHITE, (WIDTH//2, HEIGHT//2), 150, 5)  # Círculo central\n",
    "    robot.draw(win)\n",
    "    ball.draw(win)\n",
    "    pygame.display.update()\n",
    "\n",
    "\n",
    "def main():\n",
    "    ball_kicked = False\n",
    "    run = True\n",
    "    while run:\n",
    "        clock.tick(30)  # Limitamos a 30 FPS\n",
    "        for event in pygame.event.get():\n",
    "            if event.type == pygame.QUIT:\n",
    "                run = False\n",
    "        \n",
    "        distance_to_ball = np.sqrt((robot.x - ball.x)**2 + (robot.y - ball.y)**2)\n",
    "        \n",
    "        # Si el robot está lo suficientemente cerca de la pelota, la pelota se mueve hacia la portería\n",
    "        if distance_to_ball < 50 and not ball_kicked:\n",
    "            ball_kicked = True\n",
    "        \n",
    "        if ball_kicked:\n",
    "            ball.move_towards(WIDTH-150, HEIGHT//2)\n",
    "        else:\n",
    "            robot.move_towards(ball.x, ball.y)\n",
    "        \n",
    "        redraw_window()\n",
    "\n",
    "    pygame.quit()\n",
    "\n",
    "if __name__ == \"__main__\":\n",
    "    main()\n"
   ]
  }
 ],
 "metadata": {
  "kernelspec": {
   "display_name": "Python 3",
   "language": "python",
   "name": "python3"
  },
  "language_info": {
   "codemirror_mode": {
    "name": "ipython",
    "version": 3
   },
   "file_extension": ".py",
   "mimetype": "text/x-python",
   "name": "python",
   "nbconvert_exporter": "python",
   "pygments_lexer": "ipython3",
   "version": "3.11.0"
  }
 },
 "nbformat": 4,
 "nbformat_minor": 2
}
